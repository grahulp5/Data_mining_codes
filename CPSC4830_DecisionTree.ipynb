{
 "cells": [
  {
   "cell_type": "markdown",
   "id": "6bdf9342",
   "metadata": {},
   "source": [
    "Decision Tree Example\n",
    "Load Iris Data"
   ]
  },
  {
   "cell_type": "code",
   "execution_count": 1,
   "id": "ca42f2a5",
   "metadata": {},
   "outputs": [
    {
     "name": "stdout",
     "output_type": "stream",
     "text": [
      "Classes to predict:  ['setosa' 'versicolor' 'virginica']\n"
     ]
    }
   ],
   "source": [
    "#Importing required libraries\n",
    "import pandas as pd\n",
    "import numpy as np\n",
    "from sklearn.datasets import load_iris\n",
    "from sklearn.tree import DecisionTreeClassifier\n",
    "from sklearn.model_selection import train_test_split\n",
    "\n",
    "#Loading the iris data\n",
    "data = load_iris()\n",
    "print('Classes to predict: ', data.target_names)\n"
   ]
  },
  {
   "cell_type": "markdown",
   "id": "9c938977",
   "metadata": {},
   "source": [
    "Split the data into attributes and Target variable."
   ]
  },
  {
   "cell_type": "code",
   "execution_count": 2,
   "id": "ff3e667e",
   "metadata": {},
   "outputs": [
    {
     "name": "stdout",
     "output_type": "stream",
     "text": [
      "Number of examples in the data: 150\n"
     ]
    }
   ],
   "source": [
    "#Extracting data attributes\n",
    "X = data.data\n",
    "### Extracting target/ class labels\n",
    "y = data.target\n",
    "\n",
    "print('Number of examples in the data:', X.shape[0])"
   ]
  },
  {
   "cell_type": "markdown",
   "id": "4e43adc5",
   "metadata": {},
   "source": [
    "Take a look of the data"
   ]
  },
  {
   "cell_type": "code",
   "execution_count": 3,
   "id": "23b34f21",
   "metadata": {},
   "outputs": [
    {
     "data": {
      "text/plain": [
       "array([[5.1, 3.5, 1.4, 0.2],\n",
       "       [4.9, 3. , 1.4, 0.2],\n",
       "       [4.7, 3.2, 1.3, 0.2],\n",
       "       [4.6, 3.1, 1.5, 0.2]])"
      ]
     },
     "execution_count": 3,
     "metadata": {},
     "output_type": "execute_result"
    }
   ],
   "source": [
    "#First four rows in the variable 'X'\n",
    "X[:4]\n"
   ]
  },
  {
   "cell_type": "markdown",
   "id": "3e7dc539",
   "metadata": {},
   "source": [
    "Split the dataset into Training and Test dataset"
   ]
  },
  {
   "cell_type": "code",
   "execution_count": 4,
   "id": "75e329ee",
   "metadata": {},
   "outputs": [],
   "source": [
    "#Using the train_test_split to create train and test sets.\n",
    "X_train, X_test, y_train, y_test = train_test_split(X, y, random_state = 47, test_size = 0.25)"
   ]
  },
  {
   "cell_type": "markdown",
   "id": "2d648200",
   "metadata": {},
   "source": [
    "Call the model"
   ]
  },
  {
   "cell_type": "code",
   "execution_count": 5,
   "id": "0d251643",
   "metadata": {},
   "outputs": [],
   "source": [
    "#Importing the Decision tree classifier from the sklearn library.\n",
    "from sklearn.tree import DecisionTreeClassifier\n",
    "clf = DecisionTreeClassifier(criterion = 'entropy')"
   ]
  },
  {
   "cell_type": "raw",
   "id": "3e63045b",
   "metadata": {},
   "source": [
    "Training"
   ]
  },
  {
   "cell_type": "code",
   "execution_count": 6,
   "id": "5a7be969",
   "metadata": {},
   "outputs": [
    {
     "data": {
      "text/html": [
       "<style>#sk-container-id-1 {color: black;}#sk-container-id-1 pre{padding: 0;}#sk-container-id-1 div.sk-toggleable {background-color: white;}#sk-container-id-1 label.sk-toggleable__label {cursor: pointer;display: block;width: 100%;margin-bottom: 0;padding: 0.3em;box-sizing: border-box;text-align: center;}#sk-container-id-1 label.sk-toggleable__label-arrow:before {content: \"▸\";float: left;margin-right: 0.25em;color: #696969;}#sk-container-id-1 label.sk-toggleable__label-arrow:hover:before {color: black;}#sk-container-id-1 div.sk-estimator:hover label.sk-toggleable__label-arrow:before {color: black;}#sk-container-id-1 div.sk-toggleable__content {max-height: 0;max-width: 0;overflow: hidden;text-align: left;background-color: #f0f8ff;}#sk-container-id-1 div.sk-toggleable__content pre {margin: 0.2em;color: black;border-radius: 0.25em;background-color: #f0f8ff;}#sk-container-id-1 input.sk-toggleable__control:checked~div.sk-toggleable__content {max-height: 200px;max-width: 100%;overflow: auto;}#sk-container-id-1 input.sk-toggleable__control:checked~label.sk-toggleable__label-arrow:before {content: \"▾\";}#sk-container-id-1 div.sk-estimator input.sk-toggleable__control:checked~label.sk-toggleable__label {background-color: #d4ebff;}#sk-container-id-1 div.sk-label input.sk-toggleable__control:checked~label.sk-toggleable__label {background-color: #d4ebff;}#sk-container-id-1 input.sk-hidden--visually {border: 0;clip: rect(1px 1px 1px 1px);clip: rect(1px, 1px, 1px, 1px);height: 1px;margin: -1px;overflow: hidden;padding: 0;position: absolute;width: 1px;}#sk-container-id-1 div.sk-estimator {font-family: monospace;background-color: #f0f8ff;border: 1px dotted black;border-radius: 0.25em;box-sizing: border-box;margin-bottom: 0.5em;}#sk-container-id-1 div.sk-estimator:hover {background-color: #d4ebff;}#sk-container-id-1 div.sk-parallel-item::after {content: \"\";width: 100%;border-bottom: 1px solid gray;flex-grow: 1;}#sk-container-id-1 div.sk-label:hover label.sk-toggleable__label {background-color: #d4ebff;}#sk-container-id-1 div.sk-serial::before {content: \"\";position: absolute;border-left: 1px solid gray;box-sizing: border-box;top: 0;bottom: 0;left: 50%;z-index: 0;}#sk-container-id-1 div.sk-serial {display: flex;flex-direction: column;align-items: center;background-color: white;padding-right: 0.2em;padding-left: 0.2em;position: relative;}#sk-container-id-1 div.sk-item {position: relative;z-index: 1;}#sk-container-id-1 div.sk-parallel {display: flex;align-items: stretch;justify-content: center;background-color: white;position: relative;}#sk-container-id-1 div.sk-item::before, #sk-container-id-1 div.sk-parallel-item::before {content: \"\";position: absolute;border-left: 1px solid gray;box-sizing: border-box;top: 0;bottom: 0;left: 50%;z-index: -1;}#sk-container-id-1 div.sk-parallel-item {display: flex;flex-direction: column;z-index: 1;position: relative;background-color: white;}#sk-container-id-1 div.sk-parallel-item:first-child::after {align-self: flex-end;width: 50%;}#sk-container-id-1 div.sk-parallel-item:last-child::after {align-self: flex-start;width: 50%;}#sk-container-id-1 div.sk-parallel-item:only-child::after {width: 0;}#sk-container-id-1 div.sk-dashed-wrapped {border: 1px dashed gray;margin: 0 0.4em 0.5em 0.4em;box-sizing: border-box;padding-bottom: 0.4em;background-color: white;}#sk-container-id-1 div.sk-label label {font-family: monospace;font-weight: bold;display: inline-block;line-height: 1.2em;}#sk-container-id-1 div.sk-label-container {text-align: center;}#sk-container-id-1 div.sk-container {/* jupyter's `normalize.less` sets `[hidden] { display: none; }` but bootstrap.min.css set `[hidden] { display: none !important; }` so we also need the `!important` here to be able to override the default hidden behavior on the sphinx rendered scikit-learn.org. See: https://github.com/scikit-learn/scikit-learn/issues/21755 */display: inline-block !important;position: relative;}#sk-container-id-1 div.sk-text-repr-fallback {display: none;}</style><div id=\"sk-container-id-1\" class=\"sk-top-container\"><div class=\"sk-text-repr-fallback\"><pre>DecisionTreeClassifier(criterion=&#x27;entropy&#x27;)</pre><b>In a Jupyter environment, please rerun this cell to show the HTML representation or trust the notebook. <br />On GitHub, the HTML representation is unable to render, please try loading this page with nbviewer.org.</b></div><div class=\"sk-container\" hidden><div class=\"sk-item\"><div class=\"sk-estimator sk-toggleable\"><input class=\"sk-toggleable__control sk-hidden--visually\" id=\"sk-estimator-id-1\" type=\"checkbox\" checked><label for=\"sk-estimator-id-1\" class=\"sk-toggleable__label sk-toggleable__label-arrow\">DecisionTreeClassifier</label><div class=\"sk-toggleable__content\"><pre>DecisionTreeClassifier(criterion=&#x27;entropy&#x27;)</pre></div></div></div></div></div>"
      ],
      "text/plain": [
       "DecisionTreeClassifier(criterion='entropy')"
      ]
     },
     "execution_count": 6,
     "metadata": {},
     "output_type": "execute_result"
    }
   ],
   "source": [
    "#Training the decision tree classifier. \n",
    "clf.fit(X_train, y_train)"
   ]
  },
  {
   "cell_type": "markdown",
   "id": "d2826376",
   "metadata": {},
   "source": [
    "Validation (Apply to the Test dataset)"
   ]
  },
  {
   "cell_type": "code",
   "execution_count": 7,
   "id": "14f8a8ae",
   "metadata": {},
   "outputs": [],
   "source": [
    "#Predicting labels on the test set.\n",
    "y_pred =  clf.predict(X_test)"
   ]
  },
  {
   "cell_type": "markdown",
   "id": "1099c1a5",
   "metadata": {},
   "source": [
    "Check the accuracy (Here we will use accuracy first. We will change it to other validation methods later.)"
   ]
  },
  {
   "cell_type": "code",
   "execution_count": 8,
   "id": "94b65841",
   "metadata": {},
   "outputs": [
    {
     "name": "stdout",
     "output_type": "stream",
     "text": [
      "Accuracy Score on train data:  1.0\n",
      "Accuracy Score on test data:  0.9473684210526315\n"
     ]
    }
   ],
   "source": [
    "#Importing the accuracy metric from sklearn.metrics library\n",
    "\n",
    "from sklearn.metrics import accuracy_score\n",
    "print('Accuracy Score on train data: ', accuracy_score(y_true=y_train, y_pred=clf.predict(X_train)))\n",
    "print('Accuracy Score on test data: ', accuracy_score(y_true=y_test, y_pred=y_pred))\n"
   ]
  },
  {
   "cell_type": "markdown",
   "id": "e54f1ae6",
   "metadata": {},
   "source": [
    "0.95... may not be very good. Let's tune the parameter. One of the parameter in Decision Tree is min_samples_split which means the smallest number for a node that can split into 2 nodes in the next level. The default value is 2. It may lead to overfitting. Let's change it to 50 and see..."
   ]
  },
  {
   "cell_type": "code",
   "execution_count": 9,
   "id": "3937524c",
   "metadata": {},
   "outputs": [
    {
     "name": "stdout",
     "output_type": "stream",
     "text": [
      "Accuracy Score on train data:  0.9553571428571429\n",
      "Accuracy Score on the test data:  0.9736842105263158\n"
     ]
    }
   ],
   "source": [
    "clf = DecisionTreeClassifier(criterion='entropy', min_samples_split=50)\n",
    "clf.fit(X_train, y_train)\n",
    "print('Accuracy Score on train data: ', accuracy_score(y_true=y_train, y_pred=clf.predict(X_train)))\n",
    "print('Accuracy Score on the test data: ', accuracy_score(y_true=y_test, y_pred=clf.predict(X_test)))\n"
   ]
  },
  {
   "cell_type": "markdown",
   "id": "9a934a3b",
   "metadata": {},
   "source": [
    "This is a typical overfitting example. High accuracy in training, but relatively weak in test dataset. After changing the min_samples_split, we overcome the overfitting problem!"
   ]
  },
  {
   "cell_type": "code",
   "execution_count": null,
   "id": "6383c8a3",
   "metadata": {},
   "outputs": [],
   "source": []
  }
 ],
 "metadata": {
  "kernelspec": {
   "display_name": "Python 3",
   "language": "python",
   "name": "python3"
  },
  "language_info": {
   "codemirror_mode": {
    "name": "ipython",
    "version": 3
   },
   "file_extension": ".py",
   "mimetype": "text/x-python",
   "name": "python",
   "nbconvert_exporter": "python",
   "pygments_lexer": "ipython3",
   "version": "3.9.5"
  }
 },
 "nbformat": 4,
 "nbformat_minor": 5
}
