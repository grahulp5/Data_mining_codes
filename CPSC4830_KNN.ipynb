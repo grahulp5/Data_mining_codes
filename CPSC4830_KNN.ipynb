{
 "cells": [
  {
   "cell_type": "markdown",
   "id": "b40f1694",
   "metadata": {},
   "source": [
    "KNN\n",
    "Import packages and load data"
   ]
  },
  {
   "cell_type": "code",
   "execution_count": 1,
   "id": "bdaae92c",
   "metadata": {},
   "outputs": [],
   "source": [
    "from sklearn import datasets\n",
    "from sklearn.model_selection import train_test_split\n",
    "from sklearn.neighbors import KNeighborsClassifier\n",
    "from sklearn.metrics import classification_report, confusion_matrix, accuracy_score\n",
    "\n",
    "# Load dataset\n",
    "iris = datasets.load_iris()\n",
    "X = iris.data\n",
    "y = iris.target\n"
   ]
  },
  {
   "cell_type": "markdown",
   "id": "b7244658",
   "metadata": {},
   "source": [
    "Split data into training and testing"
   ]
  },
  {
   "cell_type": "code",
   "execution_count": 2,
   "id": "da6ea6dc",
   "metadata": {},
   "outputs": [],
   "source": [
    "# Split dataset into training set and test set\n",
    "X_train, X_test, y_train, y_test = train_test_split(X, y, test_size=0.3) # 70% training and 30% testing\n"
   ]
  },
  {
   "cell_type": "markdown",
   "id": "e5735748",
   "metadata": {},
   "source": [
    "Initialize KNN classifier"
   ]
  },
  {
   "cell_type": "code",
   "execution_count": 3,
   "id": "58ad9d7b",
   "metadata": {},
   "outputs": [],
   "source": [
    "# Initialize KNN classifier\n",
    "# Number of neighbors is often set to 5 as a default, but it's a hyperparameter you can tune\n",
    "knn = KNeighborsClassifier(n_neighbors=5)\n"
   ]
  },
  {
   "cell_type": "markdown",
   "id": "fa339cf6",
   "metadata": {},
   "source": [
    "Train model"
   ]
  },
  {
   "cell_type": "code",
   "execution_count": 4,
   "id": "9603d0fa",
   "metadata": {},
   "outputs": [
    {
     "data": {
      "text/html": [
       "<style>#sk-container-id-1 {color: black;}#sk-container-id-1 pre{padding: 0;}#sk-container-id-1 div.sk-toggleable {background-color: white;}#sk-container-id-1 label.sk-toggleable__label {cursor: pointer;display: block;width: 100%;margin-bottom: 0;padding: 0.3em;box-sizing: border-box;text-align: center;}#sk-container-id-1 label.sk-toggleable__label-arrow:before {content: \"▸\";float: left;margin-right: 0.25em;color: #696969;}#sk-container-id-1 label.sk-toggleable__label-arrow:hover:before {color: black;}#sk-container-id-1 div.sk-estimator:hover label.sk-toggleable__label-arrow:before {color: black;}#sk-container-id-1 div.sk-toggleable__content {max-height: 0;max-width: 0;overflow: hidden;text-align: left;background-color: #f0f8ff;}#sk-container-id-1 div.sk-toggleable__content pre {margin: 0.2em;color: black;border-radius: 0.25em;background-color: #f0f8ff;}#sk-container-id-1 input.sk-toggleable__control:checked~div.sk-toggleable__content {max-height: 200px;max-width: 100%;overflow: auto;}#sk-container-id-1 input.sk-toggleable__control:checked~label.sk-toggleable__label-arrow:before {content: \"▾\";}#sk-container-id-1 div.sk-estimator input.sk-toggleable__control:checked~label.sk-toggleable__label {background-color: #d4ebff;}#sk-container-id-1 div.sk-label input.sk-toggleable__control:checked~label.sk-toggleable__label {background-color: #d4ebff;}#sk-container-id-1 input.sk-hidden--visually {border: 0;clip: rect(1px 1px 1px 1px);clip: rect(1px, 1px, 1px, 1px);height: 1px;margin: -1px;overflow: hidden;padding: 0;position: absolute;width: 1px;}#sk-container-id-1 div.sk-estimator {font-family: monospace;background-color: #f0f8ff;border: 1px dotted black;border-radius: 0.25em;box-sizing: border-box;margin-bottom: 0.5em;}#sk-container-id-1 div.sk-estimator:hover {background-color: #d4ebff;}#sk-container-id-1 div.sk-parallel-item::after {content: \"\";width: 100%;border-bottom: 1px solid gray;flex-grow: 1;}#sk-container-id-1 div.sk-label:hover label.sk-toggleable__label {background-color: #d4ebff;}#sk-container-id-1 div.sk-serial::before {content: \"\";position: absolute;border-left: 1px solid gray;box-sizing: border-box;top: 0;bottom: 0;left: 50%;z-index: 0;}#sk-container-id-1 div.sk-serial {display: flex;flex-direction: column;align-items: center;background-color: white;padding-right: 0.2em;padding-left: 0.2em;position: relative;}#sk-container-id-1 div.sk-item {position: relative;z-index: 1;}#sk-container-id-1 div.sk-parallel {display: flex;align-items: stretch;justify-content: center;background-color: white;position: relative;}#sk-container-id-1 div.sk-item::before, #sk-container-id-1 div.sk-parallel-item::before {content: \"\";position: absolute;border-left: 1px solid gray;box-sizing: border-box;top: 0;bottom: 0;left: 50%;z-index: -1;}#sk-container-id-1 div.sk-parallel-item {display: flex;flex-direction: column;z-index: 1;position: relative;background-color: white;}#sk-container-id-1 div.sk-parallel-item:first-child::after {align-self: flex-end;width: 50%;}#sk-container-id-1 div.sk-parallel-item:last-child::after {align-self: flex-start;width: 50%;}#sk-container-id-1 div.sk-parallel-item:only-child::after {width: 0;}#sk-container-id-1 div.sk-dashed-wrapped {border: 1px dashed gray;margin: 0 0.4em 0.5em 0.4em;box-sizing: border-box;padding-bottom: 0.4em;background-color: white;}#sk-container-id-1 div.sk-label label {font-family: monospace;font-weight: bold;display: inline-block;line-height: 1.2em;}#sk-container-id-1 div.sk-label-container {text-align: center;}#sk-container-id-1 div.sk-container {/* jupyter's `normalize.less` sets `[hidden] { display: none; }` but bootstrap.min.css set `[hidden] { display: none !important; }` so we also need the `!important` here to be able to override the default hidden behavior on the sphinx rendered scikit-learn.org. See: https://github.com/scikit-learn/scikit-learn/issues/21755 */display: inline-block !important;position: relative;}#sk-container-id-1 div.sk-text-repr-fallback {display: none;}</style><div id=\"sk-container-id-1\" class=\"sk-top-container\"><div class=\"sk-text-repr-fallback\"><pre>KNeighborsClassifier()</pre><b>In a Jupyter environment, please rerun this cell to show the HTML representation or trust the notebook. <br />On GitHub, the HTML representation is unable to render, please try loading this page with nbviewer.org.</b></div><div class=\"sk-container\" hidden><div class=\"sk-item\"><div class=\"sk-estimator sk-toggleable\"><input class=\"sk-toggleable__control sk-hidden--visually\" id=\"sk-estimator-id-1\" type=\"checkbox\" checked><label for=\"sk-estimator-id-1\" class=\"sk-toggleable__label sk-toggleable__label-arrow\">KNeighborsClassifier</label><div class=\"sk-toggleable__content\"><pre>KNeighborsClassifier()</pre></div></div></div></div></div>"
      ],
      "text/plain": [
       "KNeighborsClassifier()"
      ]
     },
     "execution_count": 4,
     "metadata": {},
     "output_type": "execute_result"
    }
   ],
   "source": [
    "# Train the model using the training set\n",
    "knn.fit(X_train, y_train)\n"
   ]
  },
  {
   "cell_type": "raw",
   "id": "ba13a501",
   "metadata": {},
   "source": [
    "Predicition"
   ]
  },
  {
   "cell_type": "code",
   "execution_count": 5,
   "id": "5f5d2e52",
   "metadata": {},
   "outputs": [],
   "source": [
    "# Predict on the test set\n",
    "y_pred = knn.predict(X_test)\n"
   ]
  },
  {
   "cell_type": "markdown",
   "id": "a755abb1",
   "metadata": {},
   "source": [
    "Validation\n"
   ]
  },
  {
   "cell_type": "code",
   "execution_count": 6,
   "id": "8483d231",
   "metadata": {},
   "outputs": [
    {
     "name": "stdout",
     "output_type": "stream",
     "text": [
      "Accuracy: 0.9777777777777777\n",
      "Confusion Matrix:\n",
      " [[18  0  0]\n",
      " [ 0 13  1]\n",
      " [ 0  0 13]]\n",
      "Classification Report:\n",
      "               precision    recall  f1-score   support\n",
      "\n",
      "           0       1.00      1.00      1.00        18\n",
      "           1       1.00      0.93      0.96        14\n",
      "           2       0.93      1.00      0.96        13\n",
      "\n",
      "    accuracy                           0.98        45\n",
      "   macro avg       0.98      0.98      0.98        45\n",
      "weighted avg       0.98      0.98      0.98        45\n",
      "\n"
     ]
    }
   ],
   "source": [
    "# Model Accuracy, how often is the classifier correct?\n",
    "print(\"Accuracy:\", accuracy_score(y_test, y_pred))\n",
    "\n",
    "# Confusion matrix\n",
    "print(\"Confusion Matrix:\\n\", confusion_matrix(y_test, y_pred))\n",
    "\n",
    "# Detailed classification report\n",
    "print(\"Classification Report:\\n\", classification_report(y_test, y_pred))\n"
   ]
  },
  {
   "cell_type": "markdown",
   "id": "0d016a99",
   "metadata": {},
   "source": [
    "What can you play with the parameter in the KNeighboursClassifier?\n",
    "\n",
    "What is covered in the lecture?\n",
    "1. Distance metric (which distance formula to be used?)\n",
    "2. Any weight (further away point less important)\n",
    "3. Algorithm (did NOT cover in the lecture, you can explore it by yourself)"
   ]
  },
  {
   "cell_type": "code",
   "execution_count": 13,
   "id": "e5c2610c",
   "metadata": {},
   "outputs": [
    {
     "name": "stdout",
     "output_type": "stream",
     "text": [
      "Accuracy: 0.9777777777777777\n"
     ]
    }
   ],
   "source": [
    "# Power of the Minkowski distance, 1 means Manhattan distance (l1), 2 means Euclidean distance (L2), and you can put any integer\n",
    "#knn = KNeighborsClassifier(n_neighbors=5, p=1)\n",
    "\n",
    "#####################################################\n",
    "## For distance metric, you can choose by changing metric, default = 'minkowski'\n",
    "#knn = KNeighborsClassifier(n_neighbors=5, metric='minkowski')\n",
    "#####################################################\n",
    "# Let's try to use cosine similarity as a measure of the distance (that is to use 1-cosine similarity)\n",
    "from sklearn.neighbors import NearestNeighbors\n",
    "from sklearn.metrics import pairwise_distances\n",
    "# Create a NearestNeighbors instance with cosine distance metric\n",
    "nearest_neighbors = NearestNeighbors(metric='cosine')\n",
    "\n",
    "# Fit the model using X_train\n",
    "nearest_neighbors.fit(X_train)\n",
    "\n",
    "# Find the K nearest neighbors of the X_test points, including their distances\n",
    "distances, indices = nearest_neighbors.kneighbors(X_test, n_neighbors=3)\n",
    "\n",
    "# Convert cosine similarity to cosine distance for the training set\n",
    "cosine_distance_matrix = pairwise_distances(X_train, X_train, metric='cosine')\n",
    "\n",
    "# Train a KNeighborsClassifier with the precomputed cosine distance matrix\n",
    "knn = KNeighborsClassifier(metric='precomputed', n_neighbors=5)\n",
    "\n",
    "# Fit the classifier\n",
    "knn.fit(cosine_distance_matrix, y_train)\n",
    "\n",
    "# Compute the distance matrix between the test set and the training set\n",
    "test_distance_matrix = pairwise_distances(X_test, X_train, metric='cosine')\n",
    "\n",
    "# Use the distance matrix to make predictions\n",
    "predictions = knn.predict(test_distance_matrix)\n",
    "\n",
    "# You can now evaluate the predictions as needed, for example:\n",
    "from sklearn.metrics import accuracy_score\n",
    "accuracy = accuracy_score(y_test, predictions)\n",
    "print(f\"Accuracy: {accuracy}\")\n",
    "\n",
    "######################################################\n",
    "# weights default is 'uniform', and you can choose 'distance' or even you can define another callable function\n",
    "#knn = KNeighborsClassifier(n_neighbors=5, weights='distance')\n",
    "\n",
    "# Algorithm is not covered in the lecture, you can choose\n",
    "# 'auto' (default), 'ball_tree', 'kd_tree', 'brute'\n",
    "#knn = KNeighborsClassifier(n_neighbors=5, algorithm='auto')\n",
    "\n",
    "# you also have n_jobs here, same as Random Forest, for parallel cores to run the program\n"
   ]
  },
  {
   "cell_type": "code",
   "execution_count": null,
   "id": "b72316c1",
   "metadata": {},
   "outputs": [],
   "source": []
  },
  {
   "cell_type": "code",
   "execution_count": null,
   "id": "d5ef6ac1",
   "metadata": {},
   "outputs": [],
   "source": []
  }
 ],
 "metadata": {
  "kernelspec": {
   "display_name": "Python 3",
   "language": "python",
   "name": "python3"
  },
  "language_info": {
   "codemirror_mode": {
    "name": "ipython",
    "version": 3
   },
   "file_extension": ".py",
   "mimetype": "text/x-python",
   "name": "python",
   "nbconvert_exporter": "python",
   "pygments_lexer": "ipython3",
   "version": "3.9.5"
  }
 },
 "nbformat": 4,
 "nbformat_minor": 5
}
